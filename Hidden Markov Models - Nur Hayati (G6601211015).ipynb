{
 "cells": [
  {
   "cell_type": "code",
   "execution_count": 2,
   "id": "34d3e10b",
   "metadata": {},
   "outputs": [
    {
     "name": "stdout",
     "output_type": "stream",
     "text": [
      "Collecting hmmlearn\n",
      "  Downloading hmmlearn-0.2.6-cp38-cp38-win_amd64.whl (118 kB)\n",
      "Requirement already satisfied: numpy>=1.10 in c:\\users\\nurhayati\\anaconda3\\lib\\site-packages (from hmmlearn) (1.20.1)\n",
      "Requirement already satisfied: scipy>=0.19 in c:\\users\\nurhayati\\anaconda3\\lib\\site-packages (from hmmlearn) (1.6.2)\n",
      "Requirement already satisfied: scikit-learn>=0.16 in c:\\users\\nurhayati\\anaconda3\\lib\\site-packages (from hmmlearn) (0.24.1)\n",
      "Requirement already satisfied: joblib>=0.11 in c:\\users\\nurhayati\\anaconda3\\lib\\site-packages (from scikit-learn>=0.16->hmmlearn) (1.0.1)\n",
      "Requirement already satisfied: threadpoolctl>=2.0.0 in c:\\users\\nurhayati\\anaconda3\\lib\\site-packages (from scikit-learn>=0.16->hmmlearn) (2.1.0)\n",
      "Installing collected packages: hmmlearn\n",
      "Successfully installed hmmlearn-0.2.6\n"
     ]
    },
    {
     "name": "stderr",
     "output_type": "stream",
     "text": [
      "WARNING: Retrying (Retry(total=4, connect=None, read=None, redirect=None, status=None)) after connection broken by 'ReadTimeoutError(\"HTTPSConnectionPool(host='pypi.org', port=443): Read timed out. (read timeout=15)\")': /simple/hmmlearn/\n"
     ]
    }
   ],
   "source": [
    "!pip install hmmlearn"
   ]
  },
  {
   "cell_type": "code",
   "execution_count": 3,
   "id": "c81c0e03",
   "metadata": {},
   "outputs": [],
   "source": [
    "# Definisi Matrik Transisi (states)\n",
    "\n",
    "states = ('Rainy', 'Sunny')\n",
    " \n",
    "# definisi Matriks Observasi / Matrik emmisi    \n",
    "observations = ('walk', 'shop', 'clean')\n",
    "\n",
    "# definisi Matriks Priority\n",
    "start_probability = {'Rainy': 0.6, 'Sunny': 0.4}\n",
    " \n",
    "transition_probability = {\n",
    "   'Rainy' : {'Rainy': 0.7, 'Sunny': 0.3},\n",
    "   'Sunny' : {'Rainy': 0.4, 'Sunny': 0.6},\n",
    "   }\n",
    " \n",
    "emission_probability = {\n",
    "   'Rainy' : {'walk': 0.1, 'shop': 0.4, 'clean': 0.5},\n",
    "   'Sunny' : {'walk': 0.6, 'shop': 0.3, 'clean': 0.1},\n",
    "   }"
   ]
  },
  {
   "cell_type": "code",
   "execution_count": 4,
   "id": "77635f98",
   "metadata": {},
   "outputs": [],
   "source": [
    "# Library untuk HMM\n",
    "# Cara install pip install hmmlearn==0.2.2\n",
    "\n",
    "from hmmlearn import hmm\n",
    "import numpy as np\n",
    "\n",
    "model = hmm.MultinomialHMM(n_components=2)\n",
    "model.startprob_ = np.array([0.6, 0.4])\n",
    "model.transmat_ = np.array([[0.7, 0.3],\n",
    "                            [0.4, 0.6]])\n",
    "model.emissionprob_ = np.array([[0.1, 0.4, 0.5],\n",
    "                                [0.6, 0.3, 0.1]])\n"
   ]
  },
  {
   "cell_type": "code",
   "execution_count": 11,
   "id": "c9d9c483",
   "metadata": {},
   "outputs": [
    {
     "data": {
      "text/plain": [
       "0.30000000000000004"
      ]
     },
     "execution_count": 11,
     "metadata": {},
     "output_type": "execute_result"
    }
   ],
   "source": [
    "# Given a known model what is the likelihood of sequence O happening?\n",
    "# The probability of the first observation being “Walk” equals to the multiplication \n",
    "# of the initial state distribution and emission probability matrix.\n",
    "# 0.6 x 0.1 + 0.4 x 0.6 = 0.30 (30%). \n",
    "# The log likelihood is provided from calling .score.\n",
    "# catatan {'walk', 'shop','clean' }\n",
    "# Kasus untuk initial state #\n",
    "# contoh untuk observasi 'walk' \n",
    "# peluang dari model jika observasi adalah 'walk'\n",
    "# 0.6 x 0.1 + 0.4 x 0.6 = 0.30 (30%)\n",
    "\n",
    "import math \n",
    "math.exp(model.score(np.array([[0]])))"
   ]
  },
  {
   "cell_type": "code",
   "execution_count": 12,
   "id": "07eae019",
   "metadata": {},
   "outputs": [
    {
     "data": {
      "text/plain": [
       "0.36000000000000004"
      ]
     },
     "execution_count": 12,
     "metadata": {},
     "output_type": "execute_result"
    }
   ],
   "source": [
    "# contoh untuk observasi 'shop' \n",
    "# peluang dari model jika observasi adalah 'shop'\n",
    "# 0.6 x 0.4 + 0.4 x 0.3 = (36%)\n",
    "\n",
    "math.exp(model.score(np.array([[1]])))"
   ]
  },
  {
   "cell_type": "code",
   "execution_count": 6,
   "id": "2590ee0b",
   "metadata": {},
   "outputs": [
    {
     "data": {
      "text/plain": [
       "0.3400000000000001"
      ]
     },
     "execution_count": 6,
     "metadata": {},
     "output_type": "execute_result"
    }
   ],
   "source": [
    "# contoh untuk observasi 'clean' \n",
    "# peluang dari model jika observasi adalah 'clean'\n",
    "# 0.6 x 0.5 + 0.4 x 0.1 = (34%)\n",
    "\n",
    "math.exp(model.score(np.array([[2]])))\n"
   ]
  },
  {
   "cell_type": "code",
   "execution_count": 8,
   "id": "9b9e5b84",
   "metadata": {},
   "outputs": [
    {
     "data": {
      "text/plain": [
       "0.1244"
      ]
     },
     "execution_count": 8,
     "metadata": {},
     "output_type": "execute_result"
    }
   ],
   "source": [
    "# contoh untuk observasi {'clean', 'clean'} \n",
    "# peluang dari model jika observasi {'clean', 'clean'} adalah\n",
    "math.exp(model.score(np.array([[2,2]])))"
   ]
  },
  {
   "cell_type": "code",
   "execution_count": 9,
   "id": "d35bc8c4",
   "metadata": {},
   "outputs": [
    {
     "name": "stdout",
     "output_type": "stream",
     "text": [
      "0.015120000000000003\n",
      "[0 0 1]\n"
     ]
    }
   ],
   "source": [
    "#==== HMM decode dengan algoritma viterbi di dalamnya ======#\n",
    "logprob, seq = model.decode(np.array([[1,2,0]]).transpose())\n",
    "print(math.exp(logprob))\n",
    "print(seq)"
   ]
  },
  {
   "cell_type": "code",
   "execution_count": 10,
   "id": "0d41782d",
   "metadata": {},
   "outputs": [
    {
     "name": "stdout",
     "output_type": "stream",
     "text": [
      "0.03674999999999999\n",
      "[0 0 0]\n"
     ]
    }
   ],
   "source": [
    "logprob, seq = model.decode(np.array([[2,2,2]]).transpose())\n",
    "print(math.exp(logprob))\n",
    "print(seq)"
   ]
  },
  {
   "cell_type": "markdown",
   "id": "173c7f18",
   "metadata": {},
   "source": [
    "Hitung peluang dari model jika observasi {'clean', 'clean',’walk’, ‘walk’, ‘shop’} dari model yang ada\n"
   ]
  },
  {
   "cell_type": "code",
   "execution_count": 13,
   "id": "c2582f07",
   "metadata": {},
   "outputs": [
    {
     "data": {
      "text/plain": [
       "0.004082395400000001"
      ]
     },
     "execution_count": 13,
     "metadata": {},
     "output_type": "execute_result"
    }
   ],
   "source": [
    "math.exp(model.score(np.array([[2,2,0,0,1]])))"
   ]
  },
  {
   "cell_type": "markdown",
   "id": "80eb1dca",
   "metadata": {},
   "source": [
    "Catat state yang paling  baik untuk untuk observasi {'clean', 'clean',’walk’, ‘walk’, ‘shop’} dari model yang ada"
   ]
  },
  {
   "cell_type": "code",
   "execution_count": 14,
   "id": "ec7b56a9",
   "metadata": {},
   "outputs": [
    {
     "name": "stdout",
     "output_type": "stream",
     "text": [
      "0.001224720000000001\n",
      "[0 0 1 1 1]\n"
     ]
    }
   ],
   "source": [
    "logprob, seq = model.decode(np.array([[2,2,0,0,1]]).transpose())\n",
    "print(math.exp(logprob))\n",
    "print(seq)"
   ]
  },
  {
   "cell_type": "markdown",
   "id": "dd37824c",
   "metadata": {},
   "source": [
    "# Kesimpulan:\n",
    "1. Peluang {'clean', 'clean',’walk’, ‘walk’, ‘shop’} adalah 0.00408 atau sekitar 0,408%\n",
    "2. State yang paling baik untuk obeservasi {'clean', 'clean',’walk’, ‘walk’, ‘shop’} adalah pada saat {Rainy, Rainy, Sunny, Sunny} dengan peluang sebesar 0.00122 atau 0.122%"
   ]
  },
  {
   "cell_type": "code",
   "execution_count": null,
   "id": "9d29f331",
   "metadata": {},
   "outputs": [],
   "source": []
  }
 ],
 "metadata": {
  "kernelspec": {
   "display_name": "Python 3",
   "language": "python",
   "name": "python3"
  },
  "language_info": {
   "codemirror_mode": {
    "name": "ipython",
    "version": 3
   },
   "file_extension": ".py",
   "mimetype": "text/x-python",
   "name": "python",
   "nbconvert_exporter": "python",
   "pygments_lexer": "ipython3",
   "version": "3.8.8"
  }
 },
 "nbformat": 4,
 "nbformat_minor": 5
}
